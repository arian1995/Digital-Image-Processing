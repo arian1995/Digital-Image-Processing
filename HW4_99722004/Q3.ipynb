{
  "nbformat": 4,
  "nbformat_minor": 0,
  "metadata": {
    "colab": {
      "name": "Q3.ipynb",
      "provenance": [],
      "collapsed_sections": []
    },
    "kernelspec": {
      "name": "python3",
      "display_name": "Python 3"
    },
    "language_info": {
      "name": "python"
    }
  },
  "cells": [
    {
      "cell_type": "code",
      "metadata": {
        "colab": {
          "base_uri": "https://localhost:8080/"
        },
        "id": "zrcc2BP-Fe5r",
        "outputId": "77bae621-fa81-4c39-9114-b6a1e68e2871"
      },
      "source": [
        "from google.colab import drive\n",
        "drive.mount('/content/drive')"
      ],
      "execution_count": 12,
      "outputs": [
        {
          "output_type": "stream",
          "name": "stdout",
          "text": [
            "Drive already mounted at /content/drive; to attempt to forcibly remount, call drive.mount(\"/content/drive\", force_remount=True).\n"
          ]
        }
      ]
    },
    {
      "cell_type": "code",
      "metadata": {
        "id": "f71Va0zrj7-4"
      },
      "source": [
        "#### Import library ####\n",
        "import numpy as np\n",
        "import cv2 as cv\n",
        "import matplotlib.pyplot as plt\n",
        "import scipy.fftpack as fftpack"
      ],
      "execution_count": 13,
      "outputs": []
    },
    {
      "cell_type": "code",
      "metadata": {
        "id": "fOv28GNXTmd0"
      },
      "source": [
        "#### Vectors ####\n",
        "\n",
        "a = [-27, -17, -15, -3, 11, -4, -1, 0, 0, -1, -1, 0, 2, 0, 0, 0, 0, 0, 0, 0, 0, 0, 0, 0, 1, 'EOB']\n",
        "b = [-27, 17, -15, -3, -11, -4, 1, 0, 0, -1, -1, 0, 2, 0, 0, 0, 0, 0, 0, 0, 0, 0, 0, 0, -1, 'EOB']\n",
        "c = [-27, -17, 15, -3, -11, -4, -1, 0, 0, 1, -1, 0, 2, 0, 0, 0, 0, 0, 0, 0, 0, 0, 0, 0, -1, 'EOB']\n",
        "d = [-27, 17, 15, -3, 11, -4, 1, 0, 0, 1, -1, 0, 2, 0, 0, 0, 0, 0, 0, 0, 0, 0, 0, 0, 1, 'EOB']"
      ],
      "execution_count": 14,
      "outputs": []
    },
    {
      "cell_type": "code",
      "metadata": {
        "id": "ueCuYeNPOf2j"
      },
      "source": [
        "#### Matrix Quantization ####\n",
        "\n",
        "Z = np.array([[16,11,10,16,24,40,51,61],\n",
        "              [12,12,14,19,26,58,60,55],\n",
        "              [14,13,16,24,40,57,69,56],\n",
        "              [14,17,22,29,51,87,80,62],\n",
        "              [18,22,37,56,68,109,103,77],\n",
        "              [24,35,55,64,81,104,113,92],\n",
        "              [49,64,78,87,103,121,120,101],\n",
        "              [72,92,95,98,112,100,130,99]])"
      ],
      "execution_count": 15,
      "outputs": []
    },
    {
      "cell_type": "code",
      "metadata": {
        "id": "jqtK-QMeUvZ_"
      },
      "source": [
        "#### Define Image Show Function ####\n",
        "def image_show(image):\n",
        "  return plt.imshow(image, cmap='gray')"
      ],
      "execution_count": 16,
      "outputs": []
    },
    {
      "cell_type": "code",
      "metadata": {
        "id": "bg97Ly_UVw3V",
        "colab": {
          "base_uri": "https://localhost:8080/"
        },
        "outputId": "e46ae9bf-910d-4813-a875-e57382b78684"
      },
      "source": [
        "#### Define vector_to_matrix Function ####\n",
        "def vector_to_matrix(vector, k=8):\n",
        "\n",
        "  matrix = []\n",
        "  matrix = (k*k) * [0]\n",
        "  zigzag =[[] for i in range(k+k-1)]\n",
        "  val = 0\n",
        "  for i in range(k):\n",
        "      for j in range(k):\n",
        "          sum=i+j\n",
        "          if(sum%2 ==0):\n",
        "  \n",
        "              #add at beginning\n",
        "              zigzag[sum].insert(0,val)\n",
        "          else:\n",
        "  \n",
        "              #add at end of the list\n",
        "              zigzag[sum].append(val)\n",
        "          val += 1\n",
        "  indexes = []\n",
        "  for i in zigzag:\n",
        "    for j in i:\n",
        "      indexes.append(j)\n",
        "\n",
        "  vector[-1] = 0\n",
        "\n",
        "  vector += (len(indexes) - len(vector)) * [0]\n",
        "  v = 0\n",
        "  for idx in indexes:\n",
        "    matrix[idx] = vector[v]\n",
        "    v += 1\n",
        "  matrix = np.reshape(matrix, (k,k))\n",
        "\n",
        "  return matrix\n",
        "vector_to_matrix(a)"
      ],
      "execution_count": 17,
      "outputs": [
        {
          "output_type": "execute_result",
          "data": {
            "text/plain": [
              "array([[-27, -17,  -4,  -1,   0,   0,   0,   0],\n",
              "       [-15,  11,   0,   0,   0,   0,   0,   0],\n",
              "       [ -3,   0,   2,   0,   0,   0,   0,   0],\n",
              "       [ -1,   0,   0,   1,   0,   0,   0,   0],\n",
              "       [ -1,   0,   0,   0,   0,   0,   0,   0],\n",
              "       [  0,   0,   0,   0,   0,   0,   0,   0],\n",
              "       [  0,   0,   0,   0,   0,   0,   0,   0],\n",
              "       [  0,   0,   0,   0,   0,   0,   0,   0]])"
            ]
          },
          "metadata": {},
          "execution_count": 17
        }
      ]
    },
    {
      "cell_type": "code",
      "metadata": {
        "id": "fUvzqL2HVnWN"
      },
      "source": [
        "#### Define JPEG Decompression Function #####\n",
        "\n",
        "def jpeg_decompress(T_hat, Z):\n",
        "\n",
        "  # Please set norm='ortho' in Discrete Cosine Transform Function in fftpack\n",
        "  k = Z.shape[0]\n",
        "  T_dot = np.multiply(T_hat, Z)\n",
        "  T_dot = fftpack.idct(fftpack.idct(T_dot.T, norm='ortho').T, norm='ortho').astype(int)\n",
        "  sum_value = np.power(2, k-1)\n",
        "  T_dot = T_dot + sum_value\n",
        "  return T_dot\n"
      ],
      "execution_count": 18,
      "outputs": []
    },
    {
      "cell_type": "markdown",
      "metadata": {
        "id": "e8YNCHK4f6Mc"
      },
      "source": [
        "# **A)**"
      ]
    },
    {
      "cell_type": "code",
      "metadata": {
        "id": "v0f3LCALWOze",
        "colab": {
          "base_uri": "https://localhost:8080/",
          "height": 282
        },
        "outputId": "83025da7-f855-4514-ba06-5f74cbb913c6"
      },
      "source": [
        "####  Decompress Vector \"a\"  ####\n",
        "#### Show Decompressed Image ####\n",
        "T_hat_a = vector_to_matrix(a)\n",
        "T_dot_a = jpeg_decompress(T_hat_a, Z)\n",
        "# print(img_a)\n",
        "# plt.imshow(img_a, cmap='gray')\n",
        "image_show(T_dot_a)"
      ],
      "execution_count": 19,
      "outputs": [
        {
          "output_type": "execute_result",
          "data": {
            "text/plain": [
              "<matplotlib.image.AxesImage at 0x7f1f95a3ab90>"
            ]
          },
          "metadata": {},
          "execution_count": 19
        },
        {
          "output_type": "display_data",
          "data": {
            "image/png": "[encoded data removed]",
            "text/plain": [
              "<Figure size 432x288 with 1 Axes>"
            ]
          },
          "metadata": {
            "needs_background": "light"
          }
        }
      ]
    },
    {
      "cell_type": "markdown",
      "metadata": {
        "id": "16aWoo_dgC16"
      },
      "source": [
        "# **B)**"
      ]
    },
    {
      "cell_type": "code",
      "metadata": {
        "id": "71akXvy9ujjD"
      },
      "source": [
        "#### Decompress Vector \"b\", \"c\" And \"d\" ####\n",
        "T_hat_b = vector_to_matrix(b)\n",
        "T_dot_b = jpeg_decompress(T_hat_b, Z)\n",
        "T_hat_c = vector_to_matrix(c)\n",
        "T_dot_c = jpeg_decompress(T_hat_c, Z)\n",
        "T_hat_d = vector_to_matrix(d)\n",
        "T_dot_d = jpeg_decompress(T_hat_d, Z)\n",
        "# print(T_hat_b)\n",
        "# print(T_dot_b)"
      ],
      "execution_count": 20,
      "outputs": []
    },
    {
      "cell_type": "code",
      "metadata": {
        "id": "oj2EaarQaCSp",
        "colab": {
          "base_uri": "https://localhost:8080/",
          "height": 282
        },
        "outputId": "cc7456f4-90d9-469d-f9d5-914a7724d7ba"
      },
      "source": [
        "#### Concatenate Decompressed Images ####\n",
        "####     Show Concatenated Image     ####\n",
        "image = np.zeros((16,16))\n",
        "image[0:8, 0:8] = T_dot_a\n",
        "image[0:8, 8:] = T_dot_b\n",
        "image[8:, 0:8] = T_dot_c\n",
        "image[8:, 8:] = T_dot_d\n",
        "image_show(image)"
      ],
      "execution_count": 21,
      "outputs": [
        {
          "output_type": "execute_result",
          "data": {
            "text/plain": [
              "<matplotlib.image.AxesImage at 0x7f1f95a1fad0>"
            ]
          },
          "metadata": {},
          "execution_count": 21
        },
        {
          "output_type": "display_data",
          "data": {
            "image/png": "[encoded data removed]",
            "text/plain": [
              "<Figure size 432x288 with 1 Axes>"
            ]
          },
          "metadata": {
            "needs_background": "light"
          }
        }
      ]
    },
    {
      "cell_type": "code",
      "metadata": {
        "id": "pR9mLfMfUe0i"
      },
      "source": [
        ""
      ],
      "execution_count": 21,
      "outputs": []
    }
  ]
}